{
  "cells": [
    {
      "cell_type": "markdown",
      "metadata": {
        "id": "view-in-github",
        "colab_type": "text"
      },
      "source": [
        "<a href=\"https://colab.research.google.com/github/gheniabla/intro2ml/blob/main/chapters/chapter10.ipynb\" target=\"_parent\"><img src=\"https://colab.research.google.com/assets/colab-badge.svg\" alt=\"Open In Colab\"/></a>"
      ]
    },
    {
      "cell_type": "markdown",
      "metadata": {
        "id": "LlkvSiA70Jyz"
      },
      "source": [
        "# Chapter 10 - GPT-4\n",
        "\n",
        "---\n",
        "\n",
        "\n",
        "\n",
        "\n",
        "\n"
      ]
    },
    {
      "cell_type": "markdown",
      "metadata": {
        "id": "W7Ct7EuO0Jyz"
      },
      "source": [
        "Discribe what is unsupervised learning...\n",
        "Discribe what is unsupervised learning...\n",
        "Discribe what is unsupervised learning...\n"
      ]
    },
    {
      "cell_type": "markdown",
      "metadata": {
        "id": "B425Ivxk0Jy0"
      },
      "source": [
        "## 9.1 Unsupervised Learning Using K-Means\n",
        "\n",
        "- Describe how does K-Means work\n",
        "\n",
        "K-Means work......K-Means work....K-Means work\n",
        "\n",
        "- Describe how to implelemnt K-Means with Scikit-Learn with an example\n",
        "\n",
        "K-Means work......K-Means work....K-Means work K-Means work......K-Means work....K-Means workK-Means work......K-Means work....K-Means workK-Means work......K-Means work....K-Means workK-Means work......K-Means work....K-Means workK-Means work......K-Means work....K-Means workK-Means work......K-Means work....K-Means workK-Means work......K-Means work....K-Means workK-Means work......K-Means work....K-Means work\n",
        "\n",
        "\n",
        "\n"
      ]
    },
    {
      "cell_type": "code",
      "execution_count": null,
      "metadata": {
        "id": "2WKO4F5NEJ2c"
      },
      "outputs": [],
      "source": [
        "import sklearn.datasets\n",
        "#code\n",
        "#code\n",
        "#code\n",
        "\n",
        "\n"
      ]
    },
    {
      "cell_type": "markdown",
      "source": [
        "\n",
        "- Describe how to evaluate cluster size using Silhouette Cofficient \n",
        "\n",
        "K-Means work......K-Means work....K-Means work K-Means work......K-Means work....K-Means workK-Means work......K-Means work....K-Means workK-Means work......K-Means work....K-Means workK-Means work......K-Means work....K-Means workK-Means work......K-Means work....K-Means workK-Means work......K-Means work....K-Means workK-Means work......K-Means work....K-Means workK-Means work......K-Means work....K-Means work\n",
        "\n",
        "\n"
      ],
      "metadata": {
        "id": "nGAyeWByug2v"
      }
    },
    {
      "cell_type": "code",
      "source": [
        "import sklearn.datasets\n",
        "#code\n",
        "#code\n",
        "#code\n",
        "\n",
        "\n"
      ],
      "metadata": {
        "id": "QrKBlHAoux7z"
      },
      "execution_count": null,
      "outputs": []
    },
    {
      "cell_type": "markdown",
      "source": [
        "- Describe how to find Optimal K\n",
        "\n",
        "K-Means work......K-Means work....K-Means work K-Means work......K-Means work....K-Means workK-Means work......K-Means work....K-Means workK-Means work......K-Means work....K-Means workK-Means work......K-Means work....K-Means workK-Means work......K-Means work....K-Means workK-Means work......K-Means work....K-Means workK-Means work......K-Means work....K-Means workK-Means work......K-Means work....K-Means work"
      ],
      "metadata": {
        "id": "HwMsKeQlu3P0"
      }
    },
    {
      "cell_type": "code",
      "source": [
        "import sklearn.datasets\n",
        "#code\n",
        "#code\n",
        "#code\n"
      ],
      "metadata": {
        "id": "5q58TfvWu8Oi"
      },
      "execution_count": null,
      "outputs": []
    },
    {
      "cell_type": "markdown",
      "metadata": {
        "id": "NMGAYPxHDwuc"
      },
      "source": [
        "## 9.2 Unsupervised Learning Using Gaussian Mixtures\n",
        "\n",
        "- Describe how does Gaussian Mixtures work\n",
        "\n",
        "Gaussian Mixtures Gaussian MixturesGaussian MixturesGaussian MixturesGaussian MixturesGaussian MixturesGaussian MixturesGaussian MixturesGaussian MixturesGaussian MixturesGaussian MixturesGaussian MixturesGaussian MixturesGaussian MixturesGaussian MixturesGaussian MixturesGaussian MixturesGaussian MixturesGaussian Mixtures\n",
        "\n",
        "- Provide a simple example for using Gaussian Mixturesin Scikit-learn"
      ]
    },
    {
      "cell_type": "code",
      "execution_count": null,
      "metadata": {
        "id": "CgeY8SE6ELN9"
      },
      "outputs": [],
      "source": [
        "import pandas as pd\n",
        "import numpy as np\n"
      ]
    },
    {
      "cell_type": "markdown",
      "metadata": {
        "id": "E5QPJOzgahDP"
      },
      "source": [
        "## 9.3 Summary\n",
        "\n",
        "Unsupervised learning blah balh Unsupervised learning blah balhUnsupervised learning blah balhUnsupervised learning blah balhUnsupervised learning blah balhUnsupervised learning blah balhUnsupervised learning blah balhUnsupervised learning blah balhUnsupervised learning blah balhUnsupervised learning blah balhUnsupervised learning blah balhUnsupervised learning blah balhUnsupervised learning blah balhUnsupervised learning blah balhUnsupervised learning blah balhUnsupervised learning blah balh\n",
        " often known as supervised machine learning, is a machine learning and a\n"
      ]
    }
  ],
  "metadata": {
    "anaconda-cloud": {},
    "colab": {
      "provenance": [],
      "include_colab_link": true
    },
    "kernelspec": {
      "display_name": "Python 3.10.4 64-bit",
      "language": "python",
      "name": "python3"
    },
    "language_info": {
      "codemirror_mode": {
        "name": "ipython",
        "version": 3
      },
      "file_extension": ".py",
      "mimetype": "text/x-python",
      "name": "python",
      "nbconvert_exporter": "python",
      "pygments_lexer": "ipython3",
      "version": "3.10.4"
    },
    "vscode": {
      "interpreter": {
        "hash": "369f2c481f4da34e4445cda3fffd2e751bd1c4d706f27375911949ba6bb62e1c"
      }
    }
  },
  "nbformat": 4,
  "nbformat_minor": 0
}