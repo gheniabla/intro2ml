{
  "cells": [
    {
      "cell_type": "markdown",
      "metadata": {
        "id": "view-in-github",
        "colab_type": "text"
      },
      "source": [
        "<a href=\"https://colab.research.google.com/github/gheniabla/intro2ml/blob/main/chapters/chapter7.ipynb\" target=\"_parent\"><img src=\"https://colab.research.google.com/assets/colab-badge.svg\" alt=\"Open In Colab\"/></a>"
      ]
    },
    {
      "cell_type": "markdown",
      "metadata": {
        "id": "LlkvSiA70Jyz"
      },
      "source": [
        "# Chapter 7 - Supervised Learning - Regression\n",
        "\n",
        "\n",
        "\n"
      ]
    },
    {
      "cell_type": "markdown",
      "metadata": {
        "id": "W7Ct7EuO0Jyz"
      },
      "source": [
        "A subfield of supervised machine learning is regression analysis. Its goal is to simulate the relationship between a set of features and a continuous target variable.\n",
        "\n",
        "Assume you're car shopping and have decided that gas mileage will be a deciding factor in your purchase decision. How would you go about predicting the miles per gallon of some promising rides? Given that you know the various characteristics of the car (weight, horsepower, displacement, etc.), one possible method is regression. By plotting the average MPG of each car based on its features, regression techniques can be used to determine the relationship between the MPG and the input features. The regression function here could be represented as Y = f(X), where Y would be the MPG and X would be the input features like the weight, displacement, horsepower, etc. The target function and this curve helps us predict whether it’s beneficial to buy or not buy. This mechanism is called regression.\n",
        "\n",
        "Evaluating a Regression Algorithm:\n",
        "Assume you've created an algorithm that forecasts the weather for the following week. The predicted temperature is determined by factors such as humidity, atmospheric pressure, air temperature, and wind speed. But how accurate are your forecasts? How effective is your algorithm?\n",
        "\n",
        "Two important metrics to consider when evaluating your predictions are variance and bias.\n",
        "\n",
        "VARIANCE - Variance is the amount by which the target function estimate changes if alternative training data are utilized. The target function f defines the relationship between the input (properties) and output variables (predicted temperature). When a different dataset is utilized, the goal function must stay stable with small variance since the model must be generic for any given type of data. To prevent making incorrect forecasts, we must keep the variance low. As a result, the model should be expanded to accommodate previously undiscovered elements of temperature data and give more accurate forecasts.\n",
        "\n",
        "BIAS - Bias is the algorithm's proclivity to continually learn the incorrect thing by failing to take into consideration all of the information in the input. Bias must be minimal for the model to be accurate. If the dataset has inconsistencies such as missing values, a low number of data tuples, or inaccuracies in the input data, the bias will be large and the forecast temperature will be incorrect.\n",
        "\n",
        "The two other crucial measures are accuracy and error. The error is the difference between the actual value and the model's projected value. Accuracy is the percentage of correct predictions made by our model.\n",
        "\n",
        "The model will make inaccurate predictions on unobserved data if it memorizes or copies the training data provided to it instead of looking for patterns. The accuracy on the test dataset is poor since the curve created from the training model would then pass across all the data points. This is called overfitting and is caused by high variance. \n",
        "\n",
        "On the other hand, if the model performs well on test data but poorly on training data, this results in underfitting.\n",
        "\n",
        "There are four types of Linear Regressions:\n",
        "1) Simple Linear regression\n",
        "2) Multiple Regression\n",
        "3) Polynomial Regression\n",
        "4) Polynomial Multiple Regression\n",
        "\n"
      ]
    },
    {
      "cell_type": "markdown",
      "metadata": {
        "id": "B425Ivxk0Jy0"
      },
      "source": [
        "## 7.1 Simple Linear Regression\n",
        "\n",
        "Description \n",
        "\n",
        "Linear regression is one of the most basic types of regression in machine learning. Here, we use the input variable X to predict the target variable Y. The name \"Linear Regression\" derives from the requirement that the target variable and predictor have a linear relationship. You can use simple linear regression when you want to know:\n",
        "\n",
        "    1.) How strong the relationship is between two variables.\n",
        "    2.) The value of the dependent variable at a certain value of the independent variable.\n",
        "\n",
        "Think about estimating an employee's wage depending on their age. It is clear that there appears to be a relationship between an employee's age and income (more the age more is the salary). The hypothesis of linear regression is Y = a + bx, Y represents salary, X is employee’s age and a and b are the coefficients of the equation. So in order to predict Y (salary) given X (age), we need to know the values of a and b (the model’s coefficients).\n",
        "\n",
        "![](https://miro.medium.com/max/640/1%2ABkh-4Dwu0nQtPGwqFXANtQ.png)\n",
        "\n",
        "NOTE - These coefficients are learnt and fitted to training data while creating and training a regression model. Finding the best fit line with the lowest cost function is the goal of the training. Using the cost function, the mistake may be measured. We want to reduce the difference between the projected and actual values throughout the training phase, hence reducing the cost function.\n",
        "\n",
        "In the figure, the red points represent the data points while the blue line is the projected line for the training data. These data points are projected onto the line to obtain the expected value."
      ]
    },
    {
      "cell_type": "code",
      "execution_count": 1,
      "metadata": {
        "id": "2WKO4F5NEJ2c",
        "outputId": "88c2c57e-90cb-43cf-f9a4-1202d7edadf0",
        "colab": {
          "base_uri": "https://localhost:8080/"
        }
      },
      "outputs": [
        {
          "output_type": "stream",
          "name": "stdout",
          "text": [
            "coefficient of determination: 0.7158756137479542\n",
            "intercept: 5.633333333333329\n",
            "slope: [0.54]\n",
            "predicted response:\n",
            "[ 8.33333333 13.73333333 19.13333333 24.53333333 29.93333333 35.33333333]\n"
          ]
        }
      ],
      "source": [
        "import numpy as np\n",
        "from sklearn.linear_model import LinearRegression\n",
        "\n",
        "x = np.array([5, 15, 25, 35, 45, 55]).reshape((-1, 1))\n",
        "y = np.array([5, 20, 14, 32, 22, 38])\n",
        "\n",
        "model = LinearRegression()\n",
        "\n",
        "model.fit(x, y)\n",
        "\n",
        "r_sq = model.score(x, y)\n",
        "print(f\"coefficient of determination: {r_sq}\")\n",
        "\n",
        "print(f\"intercept: {model.intercept_}\")\n",
        "\n",
        "\n",
        "print(f\"slope: {model.coef_}\")\n",
        "\n",
        "y_pred = model.predict(x)\n",
        "print(f\"predicted response:\\n{y_pred}\")\n",
        "\n"
      ]
    },
    {
      "cell_type": "markdown",
      "metadata": {
        "id": "sC-DAdHX8t4e"
      },
      "source": [
        "NOTE - This array must be two-dimensional, or more specifically, it must contain one column and as many rows as are required. As a result, you should use the.reshape() method on x. That is precisely what the.reshape() parameter (-1, 1) specifies."
      ]
    },
    {
      "cell_type": "markdown",
      "metadata": {
        "id": "NMGAYPxHDwuc"
      },
      "source": [
        "## 7.2 Multiple Regression\n",
        "\n",
        "Where simple linear regression just takes one independent variable as input, on the other hand multiple Linear Regression is a machine learning approach that uses several independent variables to predict a single dependent variable. The steps for performing multiple linear regression are nearly identical to those for performing simple linear regression. The Difference Lies in the evaluation. It may be used to determine which factor has the most influence on the expected output and how various variables interact with one another."
      ]
    },
    {
      "cell_type": "code",
      "execution_count": 2,
      "metadata": {
        "id": "CgeY8SE6ELN9",
        "outputId": "2d833395-1e1b-479d-a3b2-dd0f9bf0aad5",
        "colab": {
          "base_uri": "https://localhost:8080/"
        }
      },
      "outputs": [
        {
          "output_type": "stream",
          "name": "stdout",
          "text": [
            "coefficient of determination: 0.8615939258756776\n",
            "intercept: 5.52257927519819\n",
            "coefficients: [0.44706965 0.25502548]\n",
            "predicted response:\n",
            "[ 5.77760476  8.012953   12.73867497 17.9744479  23.97529728 29.4660957\n",
            " 38.78227633 41.27265006]\n"
          ]
        }
      ],
      "source": [
        "import numpy as np\n",
        "from sklearn.linear_model import LinearRegression\n",
        "\n",
        "x = np.array([[0, 1], [5, 1], [15, 2], [25, 5], [35, 11], [45, 15], [55, 34], [60, 35]])\n",
        "y = np.array([4, 5, 20, 14, 32, 22, 38, 43])\n",
        "\n",
        "model = LinearRegression().fit(x, y)\n",
        "\n",
        "r_sq = model.score(x, y)\n",
        "print(f\"coefficient of determination: {r_sq}\")\n",
        "\n",
        "\n",
        "print(f\"intercept: {model.intercept_}\")\n",
        "\n",
        "\n",
        "print(f\"coefficients: {model.coef_}\")\n",
        "\n",
        "y_pred = model.predict(x)\n",
        "print(f\"predicted response:\\n{y_pred}\")\n",
        "\n",
        "\n"
      ]
    },
    {
      "cell_type": "markdown",
      "metadata": {
        "id": "2H1lNFiWD3GB"
      },
      "source": [
        "## 7.3 Polynomial Regression\n",
        "\n",
        "The link between the independent variable x and the dependent variable y is treated as an nth degree polynomial in polynomial regression. Polynomial regression, designated E(y |x), fits a nonlinear connection between the value of x and the associated conditional mean of y. \n",
        "\n",
        "![](https://miro.medium.com/max/4800/1%2A7rsG2HMIuNrtRhRWSCZvJQ.png)\n",
        "\n",
        "Why Polynomial Regression - \n",
        "    1.) Inspection of residuals: If we attempt to fit a linear model to curved data, patches of many positive residuals will appear in the centre of a scatter plot of residuals (Y-axis) on the predictor (X-axis). As a result, it is inappropriate in this circumstance.\n",
        "    2.) Common multiple linear regression analysis makes the premise that each independent variable is independent of the others. This presumption is not true for polynomial regression models."
      ]
    },
    {
      "cell_type": "code",
      "execution_count": 3,
      "metadata": {
        "id": "ZDFm7kc2EMLq",
        "outputId": "12e2daea-13e5-4ad3-f140-d39fd97652d6",
        "colab": {
          "base_uri": "https://localhost:8080/",
          "height": 75
        }
      },
      "outputs": [
        {
          "output_type": "execute_result",
          "data": {
            "text/plain": [
              "LinearRegression()"
            ],
            "text/html": [
              "<style>#sk-container-id-1 {color: black;background-color: white;}#sk-container-id-1 pre{padding: 0;}#sk-container-id-1 div.sk-toggleable {background-color: white;}#sk-container-id-1 label.sk-toggleable__label {cursor: pointer;display: block;width: 100%;margin-bottom: 0;padding: 0.3em;box-sizing: border-box;text-align: center;}#sk-container-id-1 label.sk-toggleable__label-arrow:before {content: \"▸\";float: left;margin-right: 0.25em;color: #696969;}#sk-container-id-1 label.sk-toggleable__label-arrow:hover:before {color: black;}#sk-container-id-1 div.sk-estimator:hover label.sk-toggleable__label-arrow:before {color: black;}#sk-container-id-1 div.sk-toggleable__content {max-height: 0;max-width: 0;overflow: hidden;text-align: left;background-color: #f0f8ff;}#sk-container-id-1 div.sk-toggleable__content pre {margin: 0.2em;color: black;border-radius: 0.25em;background-color: #f0f8ff;}#sk-container-id-1 input.sk-toggleable__control:checked~div.sk-toggleable__content {max-height: 200px;max-width: 100%;overflow: auto;}#sk-container-id-1 input.sk-toggleable__control:checked~label.sk-toggleable__label-arrow:before {content: \"▾\";}#sk-container-id-1 div.sk-estimator input.sk-toggleable__control:checked~label.sk-toggleable__label {background-color: #d4ebff;}#sk-container-id-1 div.sk-label input.sk-toggleable__control:checked~label.sk-toggleable__label {background-color: #d4ebff;}#sk-container-id-1 input.sk-hidden--visually {border: 0;clip: rect(1px 1px 1px 1px);clip: rect(1px, 1px, 1px, 1px);height: 1px;margin: -1px;overflow: hidden;padding: 0;position: absolute;width: 1px;}#sk-container-id-1 div.sk-estimator {font-family: monospace;background-color: #f0f8ff;border: 1px dotted black;border-radius: 0.25em;box-sizing: border-box;margin-bottom: 0.5em;}#sk-container-id-1 div.sk-estimator:hover {background-color: #d4ebff;}#sk-container-id-1 div.sk-parallel-item::after {content: \"\";width: 100%;border-bottom: 1px solid gray;flex-grow: 1;}#sk-container-id-1 div.sk-label:hover label.sk-toggleable__label {background-color: #d4ebff;}#sk-container-id-1 div.sk-serial::before {content: \"\";position: absolute;border-left: 1px solid gray;box-sizing: border-box;top: 0;bottom: 0;left: 50%;z-index: 0;}#sk-container-id-1 div.sk-serial {display: flex;flex-direction: column;align-items: center;background-color: white;padding-right: 0.2em;padding-left: 0.2em;position: relative;}#sk-container-id-1 div.sk-item {position: relative;z-index: 1;}#sk-container-id-1 div.sk-parallel {display: flex;align-items: stretch;justify-content: center;background-color: white;position: relative;}#sk-container-id-1 div.sk-item::before, #sk-container-id-1 div.sk-parallel-item::before {content: \"\";position: absolute;border-left: 1px solid gray;box-sizing: border-box;top: 0;bottom: 0;left: 50%;z-index: -1;}#sk-container-id-1 div.sk-parallel-item {display: flex;flex-direction: column;z-index: 1;position: relative;background-color: white;}#sk-container-id-1 div.sk-parallel-item:first-child::after {align-self: flex-end;width: 50%;}#sk-container-id-1 div.sk-parallel-item:last-child::after {align-self: flex-start;width: 50%;}#sk-container-id-1 div.sk-parallel-item:only-child::after {width: 0;}#sk-container-id-1 div.sk-dashed-wrapped {border: 1px dashed gray;margin: 0 0.4em 0.5em 0.4em;box-sizing: border-box;padding-bottom: 0.4em;background-color: white;}#sk-container-id-1 div.sk-label label {font-family: monospace;font-weight: bold;display: inline-block;line-height: 1.2em;}#sk-container-id-1 div.sk-label-container {text-align: center;}#sk-container-id-1 div.sk-container {/* jupyter's `normalize.less` sets `[hidden] { display: none; }` but bootstrap.min.css set `[hidden] { display: none !important; }` so we also need the `!important` here to be able to override the default hidden behavior on the sphinx rendered scikit-learn.org. See: https://github.com/scikit-learn/scikit-learn/issues/21755 */display: inline-block !important;position: relative;}#sk-container-id-1 div.sk-text-repr-fallback {display: none;}</style><div id=\"sk-container-id-1\" class=\"sk-top-container\"><div class=\"sk-text-repr-fallback\"><pre>LinearRegression()</pre><b>In a Jupyter environment, please rerun this cell to show the HTML representation or trust the notebook. <br />On GitHub, the HTML representation is unable to render, please try loading this page with nbviewer.org.</b></div><div class=\"sk-container\" hidden><div class=\"sk-item\"><div class=\"sk-estimator sk-toggleable\"><input class=\"sk-toggleable__control sk-hidden--visually\" id=\"sk-estimator-id-1\" type=\"checkbox\" checked><label for=\"sk-estimator-id-1\" class=\"sk-toggleable__label sk-toggleable__label-arrow\">LinearRegression</label><div class=\"sk-toggleable__content\"><pre>LinearRegression()</pre></div></div></div></div></div>"
            ]
          },
          "metadata": {},
          "execution_count": 3
        }
      ],
      "source": [
        "import numpy as np\n",
        "import matplotlib.pyplot as plt\n",
        "import pandas as pd\n",
        "from sklearn.model_selection import train_test_split \n",
        "from sklearn.preprocessing import PolynomialFeatures\n",
        "\n",
        "# Importing the dataset\n",
        "dataset = pd.read_csv('https://s3.us-west-2.amazonaws.com/public.gamelab.fun/dataset/position_salaries.csv')\n",
        "X = dataset.iloc[:, 1:2].values\n",
        "y = dataset.iloc[:, 2].values\n",
        "\n",
        "X_train, X_test, y_train, y_test = train_test_split(X, y, test_size=0.2, random_state=0)\n",
        "\n",
        "poly_reg = PolynomialFeatures(degree=4)\n",
        "X_poly = poly_reg.fit_transform(X)\n",
        "pol_reg = LinearRegression()\n",
        "pol_reg.fit(X_poly, y)"
      ]
    },
    {
      "cell_type": "markdown",
      "metadata": {
        "id": "YjNAUe10ECMM"
      },
      "source": [
        "## 7.4 Polynomial Multiple Regression\n",
        "\n",
        "Regression models that incorporate several variables and complex interactions are called multivariate polynomial models. These complex interactions typically have many dimensions and are non-linear. Once a precise equation (model) has been developed or discovered, it can be applied to make accurate predictions for the future. These equations are usually very complicated but give us more flexibility and higher accuracy due to utilizing multiple variables in the same equation."
      ]
    },
    {
      "cell_type": "code",
      "execution_count": 4,
      "metadata": {
        "id": "WrNw6P6HU3Zq",
        "colab": {
          "base_uri": "https://localhost:8080/",
          "height": 623
        },
        "outputId": "99886805-3f2c-442b-cee7-27464a661b3a"
      },
      "outputs": [
        {
          "output_type": "stream",
          "name": "stdout",
          "text": [
            "           price  bathrooms    sqft\n",
            "2516    550000.0          1   510.0\n",
            "2604    599000.0          1   928.0\n",
            "5358    980000.0          1  1948.0\n",
            "907     900000.0          1   656.0\n",
            "12803  1699500.0          1  1800.0\n",
            "2061   4500000.0          3  4212.0\n",
            "11771   875000.0          1  2080.0\n",
            "11110  1347999.0          4  2400.0\n",
            "12789       10.0          1   609.0\n",
            "2836   3750000.0          4  3168.0\n",
            "5925    660000.0          3  1116.0\n",
            "617    1790000.0          2  1168.0\n",
            "13294  2000000.0          2  1824.0\n",
            "14033  2100000.0          1  2544.0\n",
            "7910   1199000.0          2  1484.0\n",
            "[   5. 2940.] 4100000.0\n",
            "initial values [   5. 2940.]\n",
            "Mapped to [1.0000e+00 5.0000e+00 2.9400e+03 2.5000e+01 1.4700e+04 8.6436e+06]\n"
          ]
        },
        {
          "output_type": "execute_result",
          "data": {
            "text/plain": [
              "[<matplotlib.lines.Line2D at 0x7efc2ca39fd0>]"
            ]
          },
          "metadata": {},
          "execution_count": 4
        },
        {
          "output_type": "display_data",
          "data": {
            "text/plain": [
              "<Figure size 432x288 with 1 Axes>"
            ],
            "image/png": "[encoded data removed]"
          },
          "metadata": {
            "needs_background": "light"
          }
        }
      ],
      "source": [
        "from sklearn.preprocessing import PolynomialFeatures\n",
        "from sklearn.linear_model import LinearRegression\n",
        "from sklearn.metrics import mean_squared_error\n",
        "# dataframes\n",
        "import pandas as pd\n",
        "# computation\n",
        "import numpy as np\n",
        "# visualization\n",
        "import matplotlib.pyplot as plt\n",
        "\n",
        "# dataset\n",
        "# https://www.kaggle.com/datasets/ciphernine/brooklyn-real-estate-listings\n",
        "df = pd.read_csv('https://raw.githubusercontent.com/gheniabla/datasets/master/brooklyn_listings.csv')\n",
        "\n",
        "# for this example, we're going to estimate the price with sqft, bathroom, and bedrooms\n",
        "df = df[['price','bathrooms','sqft']].dropna()\n",
        "\n",
        "# show some random lines from our data\n",
        "print(df.sample(n=15))\n",
        "\n",
        "x_values = df[['bathrooms','sqft']].values\n",
        "y_values = df['price'].values\n",
        "\n",
        "# visual\n",
        "print(x_values[0], y_values[0])\n",
        "\n",
        "degree=2\n",
        "\n",
        "# PolynomialFeatures will create a new matrix consisting of all polynomial combinations \n",
        "# of the features with a degree less than or equal to the degree we just gave the model (2)\n",
        "poly_model = PolynomialFeatures(degree=degree)\n",
        "\n",
        "# transform out polynomial features\n",
        "poly_x_values = poly_model.fit_transform(x_values)\n",
        "\n",
        "# should be in the form [1, a, b, a^2, ab, b^2]\n",
        "print(f'initial values {x_values[0]}\\nMapped to {poly_x_values[0]}')\n",
        "\n",
        "poly_model.fit(poly_x_values, y_values)\n",
        "\n",
        "# we use linear regression as a base!!! ** sometimes misunderstood **\n",
        "regression_model = LinearRegression()\n",
        "\n",
        "regression_model.fit(poly_x_values, y_values)\n",
        "\n",
        "y_pred = regression_model.predict(poly_x_values)\n",
        "\n",
        "regression_model.coef_\n",
        "\n",
        "mean_squared_error(y_values, y_pred, squared=False)\n",
        "\n",
        "number_degrees = [1,2,3,4,5,6,7]\n",
        "plt_mean_squared_error = []\n",
        "for degree in number_degrees:\n",
        "\n",
        "   poly_model = PolynomialFeatures(degree=degree)\n",
        "  \n",
        "   poly_x_values = poly_model.fit_transform(x_values)\n",
        "   poly_model.fit(poly_x_values, y_values)\n",
        "  \n",
        "   regression_model = LinearRegression()\n",
        "   regression_model.fit(poly_x_values, y_values)\n",
        "   y_pred = regression_model.predict(poly_x_values)\n",
        "  \n",
        "   plt_mean_squared_error.append(mean_squared_error(y_values, y_pred, squared=False))\n",
        "  \n",
        "plt.scatter(number_degrees,plt_mean_squared_error, color=\"green\")\n",
        "plt.plot(number_degrees,plt_mean_squared_error, color=\"red\") \n",
        " \n",
        "\n"
      ]
    },
    {
      "cell_type": "markdown",
      "metadata": {
        "id": "uTbY4Uxl8t4h"
      },
      "source": [
        "From the graph above, we can see that our model performed best when our degree was 3, implying that a cubic function helped us most accurately anticipate house pricing."
      ]
    },
    {
      "cell_type": "markdown",
      "metadata": {
        "id": "E5QPJOzgahDP"
      },
      "source": [
        "## 7.5 Summary\n",
        "\n",
        "Regression is a supervised machine learning technique for forecasting continuous values.<br>\n",
        "Plotting a line or curve between the data that best fits the data is the ultimate goal of the regression procedure.<br>\n",
        "Variance, bias, and error are the three main metrics used to evaluate the trained regression model. Overfitting occurs when the variance is great, and underfitting occurs when the bias is strong.<br>\n",
        "Based on the number of input features and output labels, regression is classified as linear (one input and one output), multiple (many inputs and one output) and multivariate (many outputs).<br>\n",
        "The least squares approach or gradient descent can be used to adjust the coefficient and bias.<br>\n",
        "When the data is non-linear, polynomial regression is performed. The model is more adaptable in this case since it prints a curve between the data points. The degree of the polynomial must vary in order to avoid overfitting.<br>\n",
        "By including a penalty term in the cost/loss function, regularization helps to avoid overfitting.<br>"
      ]
    }
  ],
  "metadata": {
    "anaconda-cloud": {},
    "colab": {
      "provenance": [],
      "include_colab_link": true
    },
    "kernelspec": {
      "display_name": "Python 3.10.4 64-bit",
      "language": "python",
      "name": "python3"
    },
    "language_info": {
      "codemirror_mode": {
        "name": "ipython",
        "version": 3
      },
      "file_extension": ".py",
      "mimetype": "text/x-python",
      "name": "python",
      "nbconvert_exporter": "python",
      "pygments_lexer": "ipython3",
      "version": "3.10.4"
    },
    "vscode": {
      "interpreter": {
        "hash": "369f2c481f4da34e4445cda3fffd2e751bd1c4d706f27375911949ba6bb62e1c"
      }
    }
  },
  "nbformat": 4,
  "nbformat_minor": 0
}